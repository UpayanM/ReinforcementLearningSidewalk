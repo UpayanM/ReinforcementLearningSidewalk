{
 "cells": [
  {
   "cell_type": "code",
   "execution_count": 2,
   "metadata": {},
   "outputs": [],
   "source": [
    "import matplotlib\n",
    "import matplotlib.pyplot as plt\n",
    "import numpy as np\n",
    "from matplotlib.table import Table\n",
    "import random as random\n",
    "import itertools\n",
    "import scipy.sparse as sparse\n",
    "\n",
    "\n",
    "\n",
    "import numpy as np"
   ]
  },
  {
   "cell_type": "code",
   "execution_count": 3,
   "metadata": {},
   "outputs": [],
   "source": [
    "board_rows=8\n",
    "board_col=24\n",
    "learning_rate = 0.6\n",
    "discount_factor = 0.95\n",
    "\n",
    "def fwd_board_maker(end_reward, blank_reward):\n",
    "    board = np.zeros((board_rows,board_col))\n",
    "    board[:,0:board_col-1] = blank_reward\n",
    "    board[:,board_col-1]=end_reward\n",
    "    return board\n",
    "\n",
    "def litter_board_maker(litter_reward, blank_reward, end_reward):\n",
    "    np.random.seed(1)\n",
    "    rewards = (blank_reward, litter_reward )\n",
    "    occurrence_probabilities = [0.9, 0.1]\n",
    "    \n",
    "    board=np.reshape([np.random.choice(rewards, p=occurrence_probabilities) for x in range(board_rows*board_col)], (board_rows,board_col))\n",
    "    board[:,board_col-1] = end_reward\n",
    "  \n",
    "    return board\n",
    "\n",
    "def grass_board_maker(grass_reward, blank_reward, end_reward):\n",
    "    board = np.zeros((board_rows,board_col))\n",
    "    board[1:7]=blank_reward\n",
    "    board[0, :] = grass_reward\n",
    "    board[7, : ] = grass_reward\n",
    "    board[:,board_col-1] = end_reward\n",
    "    return board\n",
    "\n",
    "def obstc_board_maker(obstc_reward, blank_reward, end_reward):\n",
    "    np.random.seed(7)\n",
    "    rewards = (blank_reward, obstc_reward )\n",
    "    occurrence_probabilities = [0.9, 0.1]\n",
    "    \n",
    "    board=np.reshape([np.random.choice(rewards, p=occurrence_probabilities) for x in range(board_rows*board_col)], (board_rows,board_col))\n",
    "    board[:,board_col-1] = end_reward\n",
    "  \n",
    "    return board\n",
    "\n",
    "def reward_matrix(board):\n",
    "    c=0\n",
    "    reward=np.zeros((board_rows,board_col,5))\n",
    "    for i in range(board_rows):\n",
    "        for j in range(board_col):\n",
    "            if (i>=1):\n",
    "                reward[i-1,j,2]=board[i,j] #Going down\n",
    "                if(j>=1):\n",
    "                    reward[i-1, j-1, 3] = board[i,j] #Going diag down\n",
    "            if(j>=1):\n",
    "                reward[i,j-1,0]=board[i,j] #Going right\n",
    "            if(i<7):\n",
    "                reward[i+1,j,1]=board[i,j] #Going up\n",
    "                if(j>=1):\n",
    "                    reward[i+1, j-1,4]=board[i,j] #Going diag up\n",
    "    return reward\n",
    "\n",
    "def Q_value_update(state_row, state_column, reward_matrix, eps, Q_matrix):\n",
    "     \n",
    "    \n",
    "    directions = [0,1,2,3,4]      #(\"right\", \"up\", \"down\", \"diag down\", \"diag\")\n",
    "    \n",
    "    # candidate next states\n",
    "        \n",
    "    right = Q_matrix[state_row, state_column, 0] #right\n",
    "    up = Q_matrix[state_row, state_column, 1 ] #up\n",
    "    down = Q_matrix[state_row, state_column, 2] #down\n",
    "    diag_down = Q_matrix[state_row, state_column, 3] #diag down\n",
    "    diag = Q_matrix[state_row,state_column, 4] #diag\n",
    "    \n",
    "    if (state_row <7 ) and (state_row != 0):\n",
    "        next_state_candidates = {\"up\" : up, \"down\" : down, \"right\" : right, \"diag_down\" : diag_down, \"diag\" : diag}\n",
    "        next_state_max_Q = max(next_state_candidates, key = next_state_candidates.get) #return a string telling next state direction\n",
    "        \n",
    "        if (next_state_max_Q == \"right\"):\n",
    "            action = np.random.choice(directions, p = [1-eps, eps/4, eps/4, eps/4, eps/4])\n",
    "        if (next_state_max_Q == \"up\"):\n",
    "            action = np.random.choice(directions, p = [eps/4, 1-eps, eps/4, eps/4, eps/4])\n",
    "        if (next_state_max_Q == \"down\"):\n",
    "            action = np.random.choice(directions, p = [eps/4, eps/4, 1-eps, eps/4, eps/4])\n",
    "        if (next_state_max_Q == \"diag_down\"):\n",
    "            action = np.random.choice(directions, p = [eps/4, eps/4, eps/4, 1-eps, eps/4])\n",
    "        if (next_state_max_Q == \"diag\"):\n",
    "            action = np.random.choice(directions, p = [eps/4, eps/4, eps/4, eps/4, 1-eps])   \n",
    "    \n",
    "    if (state_row ==7 ) :\n",
    "        next_state_candidates = {\"up\" :up,  \"right\" : right, \"diag\" : diag}\n",
    "        next_state_max_Q = max(next_state_candidates, key = next_state_candidates.get) #return a string telling next state direction\n",
    "        \n",
    "        if (next_state_max_Q == \"up\"):\n",
    "            action = np.random.choice(directions, p = [eps/2, 1-eps ,0, 0, eps/2])\n",
    "        \n",
    "        if (next_state_max_Q == \"right\"):\n",
    "            action = np.random.choice(directions, p = [1-eps, eps/2, 0, 0, eps/2])\n",
    "       \n",
    "        if (next_state_max_Q == \"diag\"):\n",
    "            action = np.random.choice(directions, p = [eps/2, eps/2, 0, 0, 1-eps])   \n",
    "\n",
    "    if (state_row ==0 ) :\n",
    "        next_state_candidates =  {\"down\" : down, \"right\" : right, \"diag_down\" : diag_down}\n",
    "        \n",
    "        next_state_max_Q = max(next_state_candidates, key = next_state_candidates.get) #return a string telling next state direction\n",
    "\n",
    "        if (next_state_max_Q == \"down\"):\n",
    "            action = np.random.choice(directions, p = [eps/2, 0, 1-eps, eps/2, 0])\n",
    "        if (next_state_max_Q == \"right\"):\n",
    "            action = np.random.choice(directions, p = [1-eps, 0, eps/2, eps/2, 0])\n",
    "        if (next_state_max_Q == \"diag_down\"):\n",
    "            action = np.random.choice(directions, p = [eps/2, 0, eps/2, 1-eps, 0])\n",
    "        \n",
    "    #choose next state (s') using epsilon greedy \n",
    "    \n",
    "    if (action== 0):\n",
    "        next_state_row = state_row \n",
    "        next_state_column = state_column+1\n",
    "        next_action = 0 \n",
    "    if (action== 1):\n",
    "        next_state_row= state_row -1\n",
    "        next_state_column = state_column \n",
    "        next_action = 1 \n",
    "    if (action== 2):\n",
    "        next_state_row = state_row + 1\n",
    "        next_state_column = state_column \n",
    "        next_action = 2 \n",
    "    if (action== 3):\n",
    "        next_state_row = state_row + 1\n",
    "        next_state_column= state_column + 1\n",
    "        next_action = 3\n",
    "    if (action== 4):\n",
    "        next_state_row = state_row -1\n",
    "        next_state_column = state_column +1\n",
    "        next_action = 4 \n",
    "   \n",
    "    delta_Q = (reward_matrix[state_row,state_column,action] + discount_factor*max(Q_matrix[next_state_row, next_state_column, : ]) - Q_matrix[state_row,state_column, action] )\n",
    "    Q_value = Q_matrix[state_row,state_column, action] + learning_rate * delta_Q\n",
    "    Q_matrix[state_row, state_column, action] = Q_value\n",
    "    \n",
    "    reward_matrix[state_row,state_column,action]=-70\n",
    "        \n",
    "    return next_state_row, next_state_column, Q_matrix, reward_matrix\n",
    "\n",
    "\n",
    "\n",
    "def learnQ_matrix (board):\n",
    "    Q=np.zeros((board_rows, board_col, 5))\n",
    "    \n",
    "    for j in range(9000):\n",
    "        reward=reward_matrix(board)\n",
    "        path=np.zeros((board_rows, board_col))\n",
    "        eps=1-(j/9000)\n",
    "        np.random.seed(j)\n",
    "        random_initial_row = np.random.choice(np.arange(board_rows-1))\n",
    "        random_initial_column = np.random.choice(np.arange(board_col-1))\n",
    "        next_state_row, next_state_column, Q, reward = Q_value_update(random_initial_row, random_initial_column,reward, eps, Q)\n",
    "        \n",
    "        while( next_state_column < 23):\n",
    "                  next_state_row, next_state_column, Q, reward = Q_value_update(next_state_row, next_state_column,reward, eps, Q)\n",
    "       \n",
    "    return Q\n",
    "\n",
    "\n",
    "def reducer(source_matrix):\n",
    "    reduced_Q_matrix = np.empty((board_rows, board_col))\n",
    "\n",
    "    for i in range(board_rows):\n",
    "        for j in range(board_col):\n",
    "            if (i==0):\n",
    "                reduced_Q_matrix[i,j] = np.argmax(np.where(source_matrix[i,j]!=0, source_matrix[i,j], -1000))\n",
    "            elif (i==7):\n",
    "                reduced_Q_matrix[i,j] = np.argmax(np.where(source_matrix[i,j]!=0, source_matrix[i,j], -1000))\n",
    "            else:\n",
    "                reduced_Q_matrix[i,j] = np.argmax(source_matrix[i,j])\n",
    "\n",
    "    return reduced_Q_matrix\n",
    "\n",
    " \n",
    "def pathmaker(Q,board, row, col):\n",
    "    Q=reducer(Q)\n",
    "    path=np.zeros((board_rows, board_col))\n",
    "    path[row,col]=1\n",
    "    nrow = 0\n",
    "    ncol = 0\n",
    "    while (col<23):\n",
    "        print(Q[row, col], row, col)\n",
    "        if (Q[row, col]==0.):\n",
    "            ncol = col+1\n",
    "            nrow=row\n",
    "        if (Q[row, col]==1.):\n",
    "            nrow= row-1\n",
    "            ncol=col\n",
    "        if (Q[row, col]==2.):\n",
    "            nrow = row + 1\n",
    "            ncol=col\n",
    "        if (Q[row, col]==3.):\n",
    "            nrow = row + 1\n",
    "            ncol= col + 1\n",
    "        if (Q[row, col]==4.):\n",
    "            nrow = row-1\n",
    "            ncol = col+1   \n",
    "        path[nrow,ncol]=1\n",
    "        col=ncol\n",
    "        row=nrow\n",
    "    \n",
    "    return path\n",
    "\n",
    "\n"
   ]
  },
  {
   "cell_type": "code",
   "execution_count": 12,
   "metadata": {},
   "outputs": [
    {
     "name": "stdout",
     "output_type": "stream",
     "text": [
      "2.0 0 0\n",
      "3.0 1 0\n",
      "0.0 2 1\n",
      "3.0 2 2\n",
      "0.0 3 3\n",
      "4.0 3 4\n",
      "3.0 2 5\n",
      "4.0 3 6\n",
      "4.0 2 7\n",
      "3.0 1 8\n",
      "3.0 2 9\n",
      "3.0 3 10\n",
      "0.0 4 11\n",
      "0.0 4 12\n",
      "0.0 4 13\n",
      "4.0 4 14\n",
      "3.0 3 15\n",
      "4.0 4 16\n",
      "0.0 3 17\n",
      "0.0 3 18\n",
      "4.0 3 19\n",
      "1.0 2 20\n",
      "4.0 1 20\n",
      "3.0 0 21\n",
      "2.0 1 22\n",
      "0.0 2 22\n"
     ]
    },
    {
     "data": {
      "text/plain": [
       "<matplotlib.lines.Line2D at 0x199b5770288>"
      ]
     },
     "execution_count": 12,
     "metadata": {},
     "output_type": "execute_result"
    },
    {
     "data": {
      "image/png": "[encoded data removed]",
      "text/plain": [
       "<Figure size 432x288 with 1 Axes>"
      ]
     },
     "metadata": {
      "needs_background": "light"
     },
     "output_type": "display_data"
    }
   ],
   "source": [
    "litter=litter_board_maker(5, -1, 8)\n",
    "Qlitt=learnQ_matrix(litter)\n",
    "\n",
    "plt.imshow(litter)\n",
    "plt.spy(pathmaker(Qlitt, litter, 0, 0), markersize=4, color='red')"
   ]
  },
  {
   "cell_type": "code",
   "execution_count": 5,
   "metadata": {},
   "outputs": [
    {
     "name": "stdout",
     "output_type": "stream",
     "text": [
      "0.0 0 0\n",
      "0.0 0 1\n",
      "0.0 0 2\n",
      "0.0 0 3\n",
      "0.0 0 4\n",
      "0.0 0 5\n",
      "0.0 0 6\n",
      "0.0 0 7\n",
      "0.0 0 8\n",
      "0.0 0 9\n",
      "0.0 0 10\n",
      "0.0 0 11\n",
      "0.0 0 12\n",
      "0.0 0 13\n",
      "0.0 0 14\n",
      "0.0 0 15\n",
      "0.0 0 16\n",
      "0.0 0 17\n",
      "0.0 0 18\n",
      "0.0 0 19\n",
      "0.0 0 20\n",
      "0.0 0 21\n",
      "0.0 0 22\n"
     ]
    },
    {
     "data": {
      "text/plain": [
       "<matplotlib.lines.Line2D at 0x199b50df3c8>"
      ]
     },
     "execution_count": 5,
     "metadata": {},
     "output_type": "execute_result"
    },
    {
     "data": {
      "image/png": "[encoded data removed]",
      "text/plain": [
       "<Figure size 432x288 with 1 Axes>"
      ]
     },
     "metadata": {
      "needs_background": "light"
     },
     "output_type": "display_data"
    }
   ],
   "source": [
    "fwd=fwd_board_maker(5,-1)\n",
    "Qfwd=learnQ_matrix(fwd)\n",
    "plt.imshow(fwd)\n",
    "plt.spy(pathmaker(Qfwd, fwd, 0, 0), markersize=4, color='red')"
   ]
  },
  {
   "cell_type": "code",
   "execution_count": 6,
   "metadata": {},
   "outputs": [
    {
     "name": "stdout",
     "output_type": "stream",
     "text": [
      "3.0 0 4\n",
      "0.0 1 5\n",
      "0.0 1 6\n",
      "0.0 1 7\n",
      "0.0 1 8\n",
      "0.0 1 9\n",
      "0.0 1 10\n",
      "0.0 1 11\n",
      "0.0 1 12\n",
      "0.0 1 13\n",
      "0.0 1 14\n",
      "0.0 1 15\n",
      "0.0 1 16\n",
      "0.0 1 17\n",
      "0.0 1 18\n",
      "0.0 1 19\n",
      "0.0 1 20\n",
      "0.0 1 21\n",
      "0.0 1 22\n"
     ]
    },
    {
     "data": {
      "text/plain": [
       "<matplotlib.lines.Line2D at 0x199b54ec748>"
      ]
     },
     "execution_count": 6,
     "metadata": {},
     "output_type": "execute_result"
    },
    {
     "data": {
      "image/png": "[encoded data removed]",
      "text/plain": [
       "<Figure size 432x288 with 1 Axes>"
      ]
     },
     "metadata": {
      "needs_background": "light"
     },
     "output_type": "display_data"
    }
   ],
   "source": [
    "grass=grass_board_maker(-20, -1, 5)\n",
    "Qgrass=learnQ_matrix(grass)\n",
    "plt.imshow(grass)\n",
    "plt.spy(pathmaker(Qgrass, grass, 0, 4), markersize=4, color='red')"
   ]
  },
  {
   "cell_type": "code",
   "execution_count": 7,
   "metadata": {
    "scrolled": true
   },
   "outputs": [
    {
     "name": "stdout",
     "output_type": "stream",
     "text": [
      "1.0 3 3\n",
      "4.0 2 3\n",
      "4.0 1 4\n",
      "0.0 0 5\n",
      "0.0 0 6\n",
      "0.0 0 7\n",
      "0.0 0 8\n",
      "0.0 0 9\n",
      "0.0 0 10\n",
      "0.0 0 11\n",
      "0.0 0 12\n",
      "0.0 0 13\n",
      "3.0 0 14\n",
      "4.0 1 15\n",
      "0.0 0 16\n",
      "3.0 0 17\n",
      "0.0 1 18\n",
      "0.0 1 19\n",
      "0.0 1 20\n",
      "0.0 1 21\n",
      "0.0 1 22\n"
     ]
    },
    {
     "data": {
      "text/plain": [
       "<matplotlib.lines.Line2D at 0x199b555a308>"
      ]
     },
     "execution_count": 7,
     "metadata": {},
     "output_type": "execute_result"
    },
    {
     "data": {
      "image/png": "[encoded data removed]",
      "text/plain": [
       "<Figure size 432x288 with 1 Axes>"
      ]
     },
     "metadata": {
      "needs_background": "light"
     },
     "output_type": "display_data"
    }
   ],
   "source": [
    "obstc=obstc_board_maker(-10,-3, 10)\n",
    "Qobstc=learnQ_matrix(obstc)\n",
    "plt.imshow(obstc)\n",
    "plt.spy(pathmaker(Qobstc, obstc, 3, 3), markersize=4, color='red')"
   ]
  },
  {
   "cell_type": "code",
   "execution_count": 8,
   "metadata": {},
   "outputs": [
    {
     "name": "stdout",
     "output_type": "stream",
     "text": [
      "0.0 3 3\n",
      "3.0 3 4\n",
      "3.0 4 5\n",
      "3.0 5 6\n",
      "0.0 6 7\n",
      "0.0 6 8\n",
      "4.0 6 9\n",
      "4.0 5 10\n",
      "4.0 4 11\n",
      "3.0 3 12\n",
      "4.0 4 13\n",
      "0.0 3 14\n",
      "3.0 3 15\n",
      "4.0 4 16\n",
      "3.0 3 17\n",
      "4.0 4 18\n",
      "4.0 3 19\n",
      "4.0 2 20\n",
      "0.0 1 21\n",
      "2.0 1 22\n",
      "0.0 2 22\n"
     ]
    },
    {
     "data": {
      "text/plain": [
       "<matplotlib.lines.Line2D at 0x199b55beac8>"
      ]
     },
     "execution_count": 8,
     "metadata": {},
     "output_type": "execute_result"
    },
    {
     "data": {
      "image/png": "[encoded data removed]",
      "text/plain": [
       "<Figure size 432x288 with 1 Axes>"
      ]
     },
     "metadata": {
      "needs_background": "light"
     },
     "output_type": "display_data"
    }
   ],
   "source": [
    "combined=litter+grass+obstc\n",
    "Qcombine=learnQ_matrix(combined)\n",
    "plt.imshow(combined)\n",
    "plt.spy(pathmaker(Qcombine, combined, 3, 3), markersize=4, color='red')"
   ]
  },
  {
   "cell_type": "code",
   "execution_count": 10,
   "metadata": {},
   "outputs": [
    {
     "name": "stdout",
     "output_type": "stream",
     "text": [
      "3.0 0 3\n",
      "3.0 1 4\n",
      "3.0 2 5\n",
      "3.0 3 6\n",
      "0.0 4 7\n",
      "0.0 4 8\n",
      "4.0 4 9\n",
      "3.0 3 10\n",
      "4.0 4 11\n",
      "3.0 3 12\n",
      "4.0 4 13\n",
      "0.0 3 14\n",
      "3.0 3 15\n",
      "4.0 4 16\n",
      "3.0 3 17\n",
      "4.0 4 18\n",
      "4.0 3 19\n",
      "4.0 2 20\n",
      "0.0 1 21\n",
      "2.0 1 22\n",
      "0.0 2 22\n"
     ]
    },
    {
     "data": {
      "text/plain": [
       "<matplotlib.lines.Line2D at 0x199b568fa08>"
      ]
     },
     "execution_count": 10,
     "metadata": {},
     "output_type": "execute_result"
    },
    {
     "data": {
      "image/png": "[encoded data removed]",
      "text/plain": [
       "<Figure size 432x288 with 1 Axes>"
      ]
     },
     "metadata": {
      "needs_background": "light"
     },
     "output_type": "display_data"
    }
   ],
   "source": [
    "plt.imshow(combined)\n",
    "plt.spy(pathmaker(Qcombine, combined, 0, 3), markersize=4, color='red')"
   ]
  },
  {
   "cell_type": "markdown",
   "metadata": {},
   "source": []
  },
  {
   "cell_type": "code",
   "execution_count": 28,
   "metadata": {},
   "outputs": [
    {
     "name": "stdout",
     "output_type": "stream",
     "text": [
      "[[0. 0. 0. 2. 0. 0. 0. 0. 0. 0. 0. 0. 0. 0. 2. 0. 0. 3. 0. 0. 3. 0. 0. 0.]\n",
      " [1. 1. 1. 1. 4. 1. 1. 1. 1. 1. 1. 1. 1. 1. 1. 4. 1. 0. 0. 0. 0. 0. 0. 0.]\n",
      " [4. 1. 1. 1. 1. 1. 1. 1. 1. 1. 1. 1. 1. 1. 1. 1. 0. 4. 4. 0. 0. 0. 0. 0.]\n",
      " [4. 4. 4. 1. 1. 1. 1. 1. 1. 1. 1. 1. 4. 1. 1. 0. 0. 3. 2. 0. 0. 0. 0. 0.]\n",
      " [2. 3. 2. 2. 2. 2. 2. 2. 3. 2. 2. 2. 0. 3. 2. 0. 0. 0. 3. 0. 0. 0. 0. 0.]\n",
      " [2. 2. 2. 2. 2. 2. 2. 2. 2. 2. 2. 2. 2. 0. 3. 2. 0. 0. 0. 0. 0. 0. 0. 0.]\n",
      " [3. 2. 2. 2. 3. 2. 2. 2. 2. 2. 2. 2. 2. 2. 2. 2. 2. 3. 0. 0. 0. 0. 0. 0.]\n",
      " [0. 0. 0. 1. 0. 0. 0. 0. 0. 0. 0. 0. 0. 0. 0. 0. 0. 0. 0. 4. 0. 0. 0. 0.]]\n",
      "[[-1 -1 -1 -1 -5 -1 -1 -1 -1 -1 -1 -1 -1 -1 -1 -5 -1 -1 -5 -1 -1 -5 -1  5]\n",
      " [-5 -1 -1 -1 -1 -1 -1 -1 -1 -1 -1 -1 -1 -1 -1 -1 -1 -1 -1 -1 -1 -1 -1  5]\n",
      " [-1 -1 -1 -1 -1 -1 -1 -1 -1 -1 -1 -1 -5 -1 -1 -1 -1 -1 -5 -5 -1 -1 -1  5]\n",
      " [-1 -1 -1 -1 -1 -1 -1 -1 -1 -1 -1 -1 -1 -1 -1 -1 -1 -1 -1 -5 -1 -1 -1  5]\n",
      " [-1 -1 -1 -1 -1 -1 -1 -1 -1 -1 -1 -1 -1 -1 -1 -1 -1 -1 -1 -5 -1 -1 -1  5]\n",
      " [-1 -1 -1 -1 -1 -1 -1 -1 -5 -1 -1 -1 -5 -1 -1 -1 -1 -1 -1 -1 -1 -1 -1  5]\n",
      " [-1 -1 -1 -1 -1 -1 -1 -1 -1 -1 -1 -1 -1 -5 -5 -1 -1 -1 -5 -1 -1 -1 -1  5]\n",
      " [-1 -1 -1 -1 -5 -1 -1 -1 -1 -1 -1 -1 -1 -1 -1 -1 -1 -1 -1 -1 -5 -1 -1  5]]\n",
      "[[0. 0. 0. 0. 0. 0. 0. 0. 0. 0. 0. 0. 0. 0. 0. 0. 0. 0. 0. 0. 0. 0. 0. 0.]\n",
      " [1. 1. 1. 1. 1. 1. 1. 1. 1. 1. 1. 1. 1. 1. 1. 1. 1. 0. 0. 0. 0. 0. 0. 0.]\n",
      " [1. 4. 1. 1. 1. 1. 1. 1. 1. 1. 1. 1. 1. 1. 1. 1. 0. 0. 0. 0. 0. 0. 0. 0.]\n",
      " [1. 1. 1. 1. 1. 1. 1. 1. 1. 1. 1. 1. 1. 1. 1. 0. 0. 0. 0. 0. 0. 0. 0. 0.]\n",
      " [2. 2. 2. 2. 2. 2. 2. 2. 2. 2. 2. 2. 2. 2. 2. 0. 0. 0. 0. 0. 0. 0. 0. 0.]\n",
      " [2. 2. 2. 2. 2. 2. 2. 2. 2. 2. 2. 2. 2. 2. 2. 2. 0. 0. 0. 0. 0. 0. 0. 0.]\n",
      " [3. 2. 2. 2. 2. 2. 2. 2. 2. 2. 2. 2. 2. 2. 2. 2. 2. 0. 0. 0. 0. 0. 0. 0.]\n",
      " [0. 0. 0. 0. 0. 0. 0. 0. 0. 0. 0. 0. 0. 0. 0. 0. 0. 0. 0. 0. 0. 0. 0. 0.]]\n",
      "[[0. 0. 0. 0. 0. 0. 0. 0. 0. 0. 0. 0. 0. 3. 3. 3. 3. 3. 3. 3. 3. 3. 0. 0.]\n",
      " [4. 1. 1. 1. 1. 1. 1. 1. 1. 1. 1. 1. 1. 0. 0. 0. 0. 0. 0. 0. 0. 0. 0. 0.]\n",
      " [4. 4. 1. 1. 1. 1. 1. 1. 1. 1. 1. 1. 0. 0. 0. 0. 0. 0. 0. 0. 0. 0. 0. 0.]\n",
      " [1. 4. 4. 1. 4. 1. 1. 1. 1. 1. 1. 0. 0. 0. 0. 0. 0. 0. 0. 0. 0. 0. 0. 0.]\n",
      " [2. 3. 2. 3. 3. 2. 2. 2. 2. 2. 2. 0. 0. 0. 0. 0. 0. 0. 0. 0. 0. 0. 0. 0.]\n",
      " [2. 2. 2. 2. 2. 2. 2. 2. 2. 2. 2. 2. 0. 0. 0. 0. 0. 0. 0. 0. 0. 0. 0. 0.]\n",
      " [3. 2. 2. 2. 2. 2. 2. 2. 2. 2. 2. 2. 2. 0. 0. 0. 0. 0. 0. 0. 0. 0. 0. 0.]\n",
      " [0. 0. 0. 0. 0. 0. 0. 0. 0. 0. 0. 0. 0. 4. 4. 4. 4. 4. 4. 4. 4. 4. 0. 0.]]\n",
      "[[0. 3. 2. 2. 3. 3. 0. 3. 2. 3. 3. 0. 3. 2. 3. 3. 3. 2. 3. 0. 0. 3. 0. 0.]\n",
      " [0. 0. 3. 2. 0. 0. 4. 0. 3. 3. 3. 2. 0. 3. 2. 0. 0. 3. 2. 3. 4. 1. 2. 0.]\n",
      " [3. 3. 0. 3. 2. 4. 3. 4. 0. 3. 2. 3. 3. 0. 3. 2. 0. 0. 3. 0. 1. 4. 0. 0.]\n",
      " [2. 0. 0. 0. 3. 4. 3. 3. 0. 3. 3. 3. 3. 2. 0. 3. 3. 3. 0. 4. 3. 4. 0. 0.]\n",
      " [3. 3. 4. 4. 1. 3. 3. 0. 4. 3. 0. 2. 0. 0. 4. 1. 0. 0. 4. 1. 0. 1. 0. 0.]\n",
      " [1. 3. 4. 1. 0. 0. 3. 4. 3. 4. 4. 4. 4. 1. 1. 4. 1. 4. 4. 1. 4. 1. 0. 0.]\n",
      " [2. 0. 3. 2. 0. 0. 0. 1. 4. 4. 4. 4. 1. 0. 4. 1. 4. 4. 1. 1. 3. 1. 0. 0.]\n",
      " [0. 1. 0. 0. 4. 0. 4. 0. 4. 4. 1. 4. 4. 4. 1. 4. 1. 4. 4. 4. 0. 4. 0. 0.]]\n"
     ]
    }
   ],
   "source": [
    "print(reducer(Qobstc))\n",
    "print(obstc)\n",
    "print(reducer(Qfwd))\n",
    "print(reducer(Qgrass))\n",
    "print(reducer(Qlitt))"
   ]
  },
  {
   "cell_type": "code",
   "execution_count": 13,
   "metadata": {},
   "outputs": [
    {
     "data": {
      "text/plain": [
       "<matplotlib.image.AxesImage at 0x199b57d49c8>"
      ]
     },
     "execution_count": 13,
     "metadata": {},
     "output_type": "execute_result"
    },
    {
     "data": {
      "image/png": "[encoded data removed]",
      "text/plain": [
       "<Figure size 432x288 with 1 Axes>"
      ]
     },
     "metadata": {
      "needs_background": "light"
     },
     "output_type": "display_data"
    }
   ],
   "source": [
    "plt.imshow(combined)\n"
   ]
  },
  {
   "cell_type": "code",
   "execution_count": 27,
   "metadata": {},
   "outputs": [
    {
     "data": {
      "text/plain": [
       "array([-2.        ,  0.        , -3.59998825, -3.59995975,  0.        ])"
      ]
     },
     "execution_count": 27,
     "metadata": {},
     "output_type": "execute_result"
    }
   ],
   "source": [
    "Qlitt[0,0]"
   ]
  },
  {
   "cell_type": "code",
   "execution_count": 162,
   "metadata": {},
   "outputs": [],
   "source": [
    "Qfwd=learnQ_matrix(fwd)\n"
   ]
  },
  {
   "cell_type": "code",
   "execution_count": null,
   "metadata": {},
   "outputs": [],
   "source": []
  }
 ],
 "metadata": {
  "kernelspec": {
   "display_name": "Python 3",
   "language": "python",
   "name": "python3"
  },
  "language_info": {
   "codemirror_mode": {
    "name": "ipython",
    "version": 3
   },
   "file_extension": ".py",
   "mimetype": "text/x-python",
   "name": "python",
   "nbconvert_exporter": "python",
   "pygments_lexer": "ipython3",
   "version": "3.7.4"
  }
 },
 "nbformat": 4,
 "nbformat_minor": 2
}
